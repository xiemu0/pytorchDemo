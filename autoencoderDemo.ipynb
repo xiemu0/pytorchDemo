{
 "cells": [
  {
   "cell_type": "code",
   "execution_count": 1,
   "metadata": {},
   "outputs": [],
   "source": [
    "import torch\n",
    "import torch.nn as nn\n",
    "import torch.utils.data as Data\n",
    "import torchvision\n",
    "import matplotlib.pyplot as plt"
   ]
  },
  {
   "cell_type": "code",
   "execution_count": 2,
   "metadata": {},
   "outputs": [],
   "source": [
    "# hyper parameters\n",
    "EPOCH = 10\n",
    "BATCH_SIZE = 64\n",
    "LR = 0.01\n",
    "DOWNLOAD_MNIST = False"
   ]
  },
  {
   "cell_type": "code",
   "execution_count": 3,
   "metadata": {},
   "outputs": [],
   "source": [
    "# training data\n",
    "train_data = torchvision.datasets.MNIST(\n",
    "    root=\"./mnist\",\n",
    "    train=True, \n",
    "    transform=torchvision.transforms.ToTensor(), # [0, 1]\n",
    "    download=DOWNLOAD_MNIST\n",
    ")\n",
    "train_loader = Data.DataLoader(dataset=train_data, batch_size=BATCH_SIZE, shuffle=True)"
   ]
  },
  {
   "cell_type": "code",
   "execution_count": 4,
   "metadata": {},
   "outputs": [],
   "source": [
    "class AutoEncoder(nn.Module):\n",
    "    def __init__(self):\n",
    "        super().__init__()\n",
    "        self.encoder = nn.Sequential(\n",
    "            nn.Linear(28*28, 128),\n",
    "            nn.Tanh(),\n",
    "            nn.Linear(128, 64),\n",
    "            nn.Tanh(),\n",
    "            nn.Linear(64, 12),\n",
    "            nn.Tanh(),\n",
    "            nn.Linear(12, 3)\n",
    "        )\n",
    "        self.decoder = nn.Sequential(\n",
    "            nn.Linear(3, 12),\n",
    "            nn.Tanh(),\n",
    "            nn.Linear(12, 64),\n",
    "            nn.Tanh(),\n",
    "            nn.Linear(64, 128),\n",
    "            nn.Tanh(),\n",
    "            nn.Linear(128, 28*28),\n",
    "            nn.Sigmoid()\n",
    "        )\n",
    "    def forward(self, x):\n",
    "        encoded = self.encoder(x)\n",
    "        decoded = self.decoder(encoded)\n",
    "        return encoded, decoded"
   ]
  },
  {
   "cell_type": "code",
   "execution_count": 5,
   "metadata": {},
   "outputs": [],
   "source": [
    "autoencoder = AutoEncoder()"
   ]
  },
  {
   "cell_type": "code",
   "execution_count": 6,
   "metadata": {},
   "outputs": [],
   "source": [
    "optimizer = torch.optim.Adam(autoencoder.parameters(), lr=LR)\n",
    "loss_func = nn.MSELoss()"
   ]
  },
  {
   "cell_type": "code",
   "execution_count": 7,
   "metadata": {},
   "outputs": [
    {
     "name": "stdout",
     "output_type": "stream",
     "text": [
      "epoch: 0 | step: 0 | loss: 0.23242466\n",
      "epoch: 0 | step: 100 | loss: 0.067720704\n",
      "epoch: 0 | step: 200 | loss: 0.05524498\n",
      "epoch: 0 | step: 300 | loss: 0.052376304\n",
      "epoch: 0 | step: 400 | loss: 0.051303525\n",
      "epoch: 0 | step: 500 | loss: 0.04901147\n",
      "epoch: 0 | step: 600 | loss: 0.04437494\n",
      "epoch: 0 | step: 700 | loss: 0.050408605\n",
      "epoch: 0 | step: 800 | loss: 0.04636295\n",
      "epoch: 0 | step: 900 | loss: 0.047196012\n",
      "epoch: 1 | step: 0 | loss: 0.044938665\n",
      "epoch: 1 | step: 100 | loss: 0.043869987\n",
      "epoch: 1 | step: 200 | loss: 0.042522028\n",
      "epoch: 1 | step: 300 | loss: 0.041566975\n",
      "epoch: 1 | step: 400 | loss: 0.04224722\n",
      "epoch: 1 | step: 500 | loss: 0.039299447\n",
      "epoch: 1 | step: 600 | loss: 0.044301465\n",
      "epoch: 1 | step: 700 | loss: 0.041886386\n",
      "epoch: 1 | step: 800 | loss: 0.042830165\n",
      "epoch: 1 | step: 900 | loss: 0.04146096\n",
      "epoch: 2 | step: 0 | loss: 0.041081496\n",
      "epoch: 2 | step: 100 | loss: 0.042833477\n",
      "epoch: 2 | step: 200 | loss: 0.04099215\n",
      "epoch: 2 | step: 300 | loss: 0.040259298\n",
      "epoch: 2 | step: 400 | loss: 0.041013334\n",
      "epoch: 2 | step: 500 | loss: 0.04045613\n",
      "epoch: 2 | step: 600 | loss: 0.03916399\n",
      "epoch: 2 | step: 700 | loss: 0.03842755\n",
      "epoch: 2 | step: 800 | loss: 0.04152923\n",
      "epoch: 2 | step: 900 | loss: 0.043673865\n",
      "epoch: 3 | step: 0 | loss: 0.042009722\n",
      "epoch: 3 | step: 100 | loss: 0.036951326\n",
      "epoch: 3 | step: 200 | loss: 0.041462813\n",
      "epoch: 3 | step: 300 | loss: 0.038469654\n",
      "epoch: 3 | step: 400 | loss: 0.038683698\n",
      "epoch: 3 | step: 500 | loss: 0.042370744\n",
      "epoch: 3 | step: 600 | loss: 0.040946867\n",
      "epoch: 3 | step: 700 | loss: 0.041316457\n",
      "epoch: 3 | step: 800 | loss: 0.041171215\n",
      "epoch: 3 | step: 900 | loss: 0.03929539\n",
      "epoch: 4 | step: 0 | loss: 0.039300352\n",
      "epoch: 4 | step: 100 | loss: 0.042447567\n",
      "epoch: 4 | step: 200 | loss: 0.03766803\n",
      "epoch: 4 | step: 300 | loss: 0.04240985\n",
      "epoch: 4 | step: 400 | loss: 0.03937512\n",
      "epoch: 4 | step: 500 | loss: 0.03932207\n",
      "epoch: 4 | step: 600 | loss: 0.04399296\n",
      "epoch: 4 | step: 700 | loss: 0.03450834\n",
      "epoch: 4 | step: 800 | loss: 0.040197916\n",
      "epoch: 4 | step: 900 | loss: 0.042356096\n",
      "epoch: 5 | step: 0 | loss: 0.039524574\n",
      "epoch: 5 | step: 100 | loss: 0.03865169\n",
      "epoch: 5 | step: 200 | loss: 0.03942023\n",
      "epoch: 5 | step: 300 | loss: 0.039765593\n",
      "epoch: 5 | step: 400 | loss: 0.03748993\n",
      "epoch: 5 | step: 500 | loss: 0.039420404\n",
      "epoch: 5 | step: 600 | loss: 0.041183382\n",
      "epoch: 5 | step: 700 | loss: 0.038524713\n",
      "epoch: 5 | step: 800 | loss: 0.03532704\n",
      "epoch: 5 | step: 900 | loss: 0.042852096\n",
      "epoch: 6 | step: 0 | loss: 0.037536126\n",
      "epoch: 6 | step: 100 | loss: 0.040690333\n",
      "epoch: 6 | step: 200 | loss: 0.042035796\n",
      "epoch: 6 | step: 300 | loss: 0.040749755\n",
      "epoch: 6 | step: 400 | loss: 0.03918755\n",
      "epoch: 6 | step: 500 | loss: 0.039175205\n",
      "epoch: 6 | step: 600 | loss: 0.04240573\n",
      "epoch: 6 | step: 700 | loss: 0.03835377\n",
      "epoch: 6 | step: 800 | loss: 0.039365694\n",
      "epoch: 6 | step: 900 | loss: 0.03664684\n",
      "epoch: 7 | step: 0 | loss: 0.037271008\n",
      "epoch: 7 | step: 100 | loss: 0.036725085\n",
      "epoch: 7 | step: 200 | loss: 0.042486332\n",
      "epoch: 7 | step: 300 | loss: 0.04225722\n",
      "epoch: 7 | step: 400 | loss: 0.038800113\n",
      "epoch: 7 | step: 500 | loss: 0.037685893\n",
      "epoch: 7 | step: 600 | loss: 0.03905279\n",
      "epoch: 7 | step: 700 | loss: 0.038111363\n",
      "epoch: 7 | step: 800 | loss: 0.03354308\n",
      "epoch: 7 | step: 900 | loss: 0.041606825\n",
      "epoch: 8 | step: 0 | loss: 0.03818019\n",
      "epoch: 8 | step: 100 | loss: 0.037731808\n",
      "epoch: 8 | step: 200 | loss: 0.044199195\n",
      "epoch: 8 | step: 300 | loss: 0.040133428\n",
      "epoch: 8 | step: 400 | loss: 0.03821559\n",
      "epoch: 8 | step: 500 | loss: 0.042017967\n",
      "epoch: 8 | step: 600 | loss: 0.035025273\n",
      "epoch: 8 | step: 700 | loss: 0.040536303\n",
      "epoch: 8 | step: 800 | loss: 0.036164396\n",
      "epoch: 8 | step: 900 | loss: 0.0362923\n",
      "epoch: 9 | step: 0 | loss: 0.037881665\n",
      "epoch: 9 | step: 100 | loss: 0.04113272\n",
      "epoch: 9 | step: 200 | loss: 0.038222816\n",
      "epoch: 9 | step: 300 | loss: 0.035829563\n",
      "epoch: 9 | step: 400 | loss: 0.041017808\n",
      "epoch: 9 | step: 500 | loss: 0.036120728\n",
      "epoch: 9 | step: 600 | loss: 0.033683714\n",
      "epoch: 9 | step: 700 | loss: 0.036779683\n",
      "epoch: 9 | step: 800 | loss: 0.03666933\n",
      "epoch: 9 | step: 900 | loss: 0.03776245\n"
     ]
    }
   ],
   "source": [
    "for epoch in range(EPOCH):\n",
    "    for step, (batch_x, batch_y) in enumerate(train_loader):\n",
    "        b_x = batch_x.view(-1, 28*28)\n",
    "        b_y = batch_x.view(-1, 28*28)\n",
    "        encoded, decoded = autoencoder(b_x)\n",
    "        loss = loss_func(decoded, b_y)\n",
    "        optimizer.zero_grad()\n",
    "        loss.backward()\n",
    "        optimizer.step()\n",
    "        \n",
    "        if step % 100 == 0:\n",
    "            print(\"epoch:\", epoch, \"| step:\", step, \"| loss:\", loss.data.numpy())"
   ]
  },
  {
   "cell_type": "code",
   "execution_count": 8,
   "metadata": {},
   "outputs": [
    {
     "data": {
      "image/png": "[encoded data removed]",
      "text/plain": [
       "<Figure size 432x288 with 1 Axes>"
      ]
     },
     "metadata": {
      "needs_background": "light"
     },
     "output_type": "display_data"
    }
   ],
   "source": [
    "view_data = train_data.data[1].type(torch.FloatTensor) / 255.\n",
    "_, decoded = autoencoder(view_data.view(-1, 28*28))\n",
    "plt.imshow(decoded.data.numpy().reshape(28, 28), cmap=\"gray\")\n",
    "plt.show()"
   ]
  },
  {
   "cell_type": "code",
   "execution_count": 9,
   "metadata": {},
   "outputs": [
    {
     "data": {
      "text/plain": [
       "tensor(0)"
      ]
     },
     "execution_count": 9,
     "metadata": {},
     "output_type": "execute_result"
    }
   ],
   "source": [
    "train_data.targets[1]"
   ]
  },
  {
   "cell_type": "code",
   "execution_count": null,
   "metadata": {},
   "outputs": [],
   "source": []
  }
 ],
 "metadata": {
  "kernelspec": {
   "display_name": "Python 3",
   "language": "python",
   "name": "python3"
  },
  "language_info": {
   "codemirror_mode": {
    "name": "ipython",
    "version": 3
   },
   "file_extension": ".py",
   "mimetype": "text/x-python",
   "name": "python",
   "nbconvert_exporter": "python",
   "pygments_lexer": "ipython3",
   "version": "3.7.2"
  }
 },
 "nbformat": 4,
 "nbformat_minor": 2
}
