{
 "cells": [
  {
   "cell_type": "code",
   "execution_count": 1,
   "metadata": {},
   "outputs": [],
   "source": [
    "import torch\n",
    "import torch.nn as nn\n",
    "import torch.utils.data as Data\n",
    "import torchvision\n",
    "import matplotlib.pyplot as plt"
   ]
  },
  {
   "cell_type": "code",
   "execution_count": 2,
   "metadata": {},
   "outputs": [],
   "source": [
    "# hyper parameters\n",
    "EPOCH = 10\n",
    "BATCH_SIZE = 64\n",
    "LR = 0.05\n",
    "DOWNLOAD_MNIST = False"
   ]
  },
  {
   "cell_type": "code",
   "execution_count": 3,
   "metadata": {},
   "outputs": [],
   "source": [
    "# training data\n",
    "train_data = torchvision.datasets.MNIST(\n",
    "    root=\"./mnist\",\n",
    "    train=True, \n",
    "    transform=torchvision.transforms.ToTensor(), # [0, 1]\n",
    "    download=DOWNLOAD_MNIST\n",
    ")\n",
    "train_loader = Data.DataLoader(dataset=train_data, batch_size=BATCH_SIZE, shuffle=True)"
   ]
  },
  {
   "cell_type": "code",
   "execution_count": 4,
   "metadata": {},
   "outputs": [],
   "source": [
    "class AutoEncoder(nn.Module):\n",
    "    def __init__(self):\n",
    "        super().__init__()\n",
    "        self.encoder = nn.Sequential(\n",
    "            nn.Linear(28*28, 128),\n",
    "            nn.Tanh(),\n",
    "            nn.Linear(128, 64),\n",
    "            nn.Tanh(),\n",
    "            nn.Linear(64, 12),\n",
    "            nn.Tanh(),\n",
    "            nn.Linear(12, 3)\n",
    "        )\n",
    "        self.decoder = nn.Sequential(\n",
    "            nn.Linear(3, 12),\n",
    "            nn.Tanh(),\n",
    "            nn.Linear(12, 64),\n",
    "            nn.Tanh(),\n",
    "            nn.Linear(64, 128),\n",
    "            nn.Tanh(),\n",
    "            nn.Linear(128, 28*28),\n",
    "            nn.Sigmoid()\n",
    "        )\n",
    "    def forward(self, x):\n",
    "        encoded = self.encoder(x)\n",
    "        decoded = self.decoder(encoded)\n",
    "        return encoded, decoded"
   ]
  },
  {
   "cell_type": "code",
   "execution_count": 5,
   "metadata": {},
   "outputs": [],
   "source": [
    "autoencoder = AutoEncoder()"
   ]
  },
  {
   "cell_type": "code",
   "execution_count": 6,
   "metadata": {},
   "outputs": [],
   "source": [
    "optimizer = torch.optim.Adam(autoencoder.parameters(), lr=LR)\n",
    "loss_func = nn.MSELoss()"
   ]
  },
  {
   "cell_type": "code",
   "execution_count": 7,
   "metadata": {},
   "outputs": [
    {
     "name": "stdout",
     "output_type": "stream",
     "text": [
      "epoch: 0 | step: 0 | loss: 0.23356093\n",
      "epoch: 0 | step: 100 | loss: 0.1000998\n",
      "epoch: 0 | step: 200 | loss: 0.09430057\n",
      "epoch: 0 | step: 300 | loss: 0.09548191\n",
      "epoch: 0 | step: 400 | loss: 0.09462469\n",
      "epoch: 0 | step: 500 | loss: 0.10681672\n",
      "epoch: 0 | step: 600 | loss: 0.10904447\n",
      "epoch: 0 | step: 700 | loss: 0.10872734\n",
      "epoch: 0 | step: 800 | loss: 0.1126591\n",
      "epoch: 0 | step: 900 | loss: 0.10833494\n",
      "epoch: 1 | step: 0 | loss: 0.11285478\n",
      "epoch: 1 | step: 100 | loss: 0.12388151\n",
      "epoch: 1 | step: 200 | loss: 0.1217552\n",
      "epoch: 1 | step: 300 | loss: 0.12662393\n",
      "epoch: 1 | step: 400 | loss: 0.11964496\n",
      "epoch: 1 | step: 500 | loss: 0.11983156\n",
      "epoch: 1 | step: 600 | loss: 0.123668395\n",
      "epoch: 1 | step: 700 | loss: 0.12597476\n",
      "epoch: 1 | step: 800 | loss: 0.13131483\n",
      "epoch: 1 | step: 900 | loss: 0.11978414\n",
      "epoch: 2 | step: 0 | loss: 0.12191874\n",
      "epoch: 2 | step: 100 | loss: 0.11584893\n",
      "epoch: 2 | step: 200 | loss: 0.118880704\n",
      "epoch: 2 | step: 300 | loss: 0.1269394\n",
      "epoch: 2 | step: 400 | loss: 0.12453502\n",
      "epoch: 2 | step: 500 | loss: 0.12548678\n",
      "epoch: 2 | step: 600 | loss: 0.1311191\n",
      "epoch: 2 | step: 700 | loss: 0.1291951\n",
      "epoch: 2 | step: 800 | loss: 0.12870722\n",
      "epoch: 2 | step: 900 | loss: 0.13078031\n",
      "epoch: 3 | step: 0 | loss: 0.1288967\n",
      "epoch: 3 | step: 100 | loss: 0.13189295\n",
      "epoch: 3 | step: 200 | loss: 0.12505148\n",
      "epoch: 3 | step: 300 | loss: 0.124714516\n",
      "epoch: 3 | step: 400 | loss: 0.12684216\n",
      "epoch: 3 | step: 500 | loss: 0.1271186\n",
      "epoch: 3 | step: 600 | loss: 0.124981016\n",
      "epoch: 3 | step: 700 | loss: 0.1281356\n",
      "epoch: 3 | step: 800 | loss: 0.12713104\n",
      "epoch: 3 | step: 900 | loss: 0.12738769\n",
      "epoch: 4 | step: 0 | loss: 0.13017255\n",
      "epoch: 4 | step: 100 | loss: 0.12690565\n",
      "epoch: 4 | step: 200 | loss: 0.12804621\n",
      "epoch: 4 | step: 300 | loss: 0.12721762\n",
      "epoch: 4 | step: 400 | loss: 0.1316621\n",
      "epoch: 4 | step: 500 | loss: 0.12556131\n",
      "epoch: 4 | step: 600 | loss: 0.13211323\n",
      "epoch: 4 | step: 700 | loss: 0.13215329\n",
      "epoch: 4 | step: 800 | loss: 0.12991817\n",
      "epoch: 4 | step: 900 | loss: 0.13124132\n",
      "epoch: 5 | step: 0 | loss: 0.12957287\n",
      "epoch: 5 | step: 100 | loss: 0.12352035\n",
      "epoch: 5 | step: 200 | loss: 0.12815699\n",
      "epoch: 5 | step: 300 | loss: 0.12969284\n",
      "epoch: 5 | step: 400 | loss: 0.12582788\n",
      "epoch: 5 | step: 500 | loss: 0.12897006\n",
      "epoch: 5 | step: 600 | loss: 0.12920918\n",
      "epoch: 5 | step: 700 | loss: 0.13151193\n",
      "epoch: 5 | step: 800 | loss: 0.13109773\n",
      "epoch: 5 | step: 900 | loss: 0.12822522\n",
      "epoch: 6 | step: 0 | loss: 0.1305376\n",
      "epoch: 6 | step: 100 | loss: 0.13051075\n",
      "epoch: 6 | step: 200 | loss: 0.13189264\n",
      "epoch: 6 | step: 300 | loss: 0.12630458\n",
      "epoch: 6 | step: 400 | loss: 0.12590641\n",
      "epoch: 6 | step: 500 | loss: 0.12813264\n",
      "epoch: 6 | step: 600 | loss: 0.1261605\n",
      "epoch: 6 | step: 700 | loss: 0.13127433\n",
      "epoch: 6 | step: 800 | loss: 0.13168636\n",
      "epoch: 6 | step: 900 | loss: 0.13373706\n",
      "epoch: 7 | step: 0 | loss: 0.12843965\n",
      "epoch: 7 | step: 100 | loss: 0.1321415\n",
      "epoch: 7 | step: 200 | loss: 0.13304669\n",
      "epoch: 7 | step: 300 | loss: 0.13455904\n",
      "epoch: 7 | step: 400 | loss: 0.1300021\n",
      "epoch: 7 | step: 500 | loss: 0.13046075\n",
      "epoch: 7 | step: 600 | loss: 0.13030162\n",
      "epoch: 7 | step: 700 | loss: 0.12925477\n",
      "epoch: 7 | step: 800 | loss: 0.1346667\n",
      "epoch: 7 | step: 900 | loss: 0.13260911\n",
      "epoch: 8 | step: 0 | loss: 0.12944119\n",
      "epoch: 8 | step: 100 | loss: 0.13411427\n",
      "epoch: 8 | step: 200 | loss: 0.12971291\n",
      "epoch: 8 | step: 300 | loss: 0.12739016\n",
      "epoch: 8 | step: 400 | loss: 0.1290522\n",
      "epoch: 8 | step: 500 | loss: 0.12643419\n",
      "epoch: 8 | step: 600 | loss: 0.12662038\n",
      "epoch: 8 | step: 700 | loss: 0.1318152\n",
      "epoch: 8 | step: 800 | loss: 0.13614912\n",
      "epoch: 8 | step: 900 | loss: 0.13280568\n",
      "epoch: 9 | step: 0 | loss: 0.13132867\n",
      "epoch: 9 | step: 100 | loss: 0.13007087\n",
      "epoch: 9 | step: 200 | loss: 0.13560292\n",
      "epoch: 9 | step: 300 | loss: 0.12939651\n",
      "epoch: 9 | step: 400 | loss: 0.12948713\n",
      "epoch: 9 | step: 500 | loss: 0.1294827\n",
      "epoch: 9 | step: 600 | loss: 0.13549587\n",
      "epoch: 9 | step: 700 | loss: 0.13615814\n",
      "epoch: 9 | step: 800 | loss: 0.1284575\n",
      "epoch: 9 | step: 900 | loss: 0.13096038\n"
     ]
    }
   ],
   "source": [
    "for epoch in range(EPOCH):\n",
    "    for step, (batch_x, batch_y) in enumerate(train_loader):\n",
    "        b_x = batch_x.view(-1, 28*28)\n",
    "        b_y = batch_x.view(-1, 28*28)\n",
    "        encoded, decoded = autoencoder(b_x)\n",
    "        loss = loss_func(decoded, b_y)\n",
    "        optimizer.zero_grad()\n",
    "        loss.backward()\n",
    "        optimizer.step()\n",
    "        \n",
    "        if step % 100 == 0:\n",
    "            print(\"epoch:\", epoch, \"| step:\", step, \"| loss:\", loss.data.numpy())"
   ]
  },
  {
   "cell_type": "code",
   "execution_count": 8,
   "metadata": {},
   "outputs": [
    {
     "data": {
      "image/png": "[encoded data removed]",
      "text/plain": [
       "<Figure size 432x288 with 1 Axes>"
      ]
     },
     "metadata": {
      "needs_background": "light"
     },
     "output_type": "display_data"
    }
   ],
   "source": [
    "view_data = train_data.data[1].type(torch.FloatTensor) / 255.\n",
    "_, decoded = autoencoder(view_data.view(-1, 28*28))\n",
    "plt.imshow(decoded.data.numpy().reshape(28, 28), cmap=\"gray\")\n",
    "plt.show()"
   ]
  },
  {
   "cell_type": "code",
   "execution_count": 9,
   "metadata": {},
   "outputs": [
    {
     "data": {
      "text/plain": [
       "tensor(0)"
      ]
     },
     "execution_count": 9,
     "metadata": {},
     "output_type": "execute_result"
    }
   ],
   "source": [
    "train_data.targets[1]"
   ]
  },
  {
   "cell_type": "code",
   "execution_count": null,
   "metadata": {},
   "outputs": [],
   "source": []
  }
 ],
 "metadata": {
  "kernelspec": {
   "display_name": "Python 3",
   "language": "python",
   "name": "python3"
  },
  "language_info": {
   "codemirror_mode": {
    "name": "ipython",
    "version": 3
   },
   "file_extension": ".py",
   "mimetype": "text/x-python",
   "name": "python",
   "nbconvert_exporter": "python",
   "pygments_lexer": "ipython3",
   "version": "3.7.2"
  }
 },
 "nbformat": 4,
 "nbformat_minor": 2
}
