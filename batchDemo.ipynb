{
 "cells": [
  {
   "cell_type": "code",
   "execution_count": 1,
   "metadata": {},
   "outputs": [],
   "source": [
    "import torch\n",
    "import torch.utils.data as Data"
   ]
  },
  {
   "cell_type": "code",
   "execution_count": 2,
   "metadata": {},
   "outputs": [],
   "source": [
    "BATCH_SIZE = 2"
   ]
  },
  {
   "cell_type": "code",
   "execution_count": 3,
   "metadata": {},
   "outputs": [],
   "source": [
    "x = torch.linspace(1, 10, 10)\n",
    "y = torch.linspace(10, 1, 10)"
   ]
  },
  {
   "cell_type": "code",
   "execution_count": 4,
   "metadata": {},
   "outputs": [],
   "source": [
    "torch_dataset = Data.TensorDataset(x, y)"
   ]
  },
  {
   "cell_type": "code",
   "execution_count": 5,
   "metadata": {},
   "outputs": [],
   "source": [
    "loader = Data.DataLoader(\n",
    "    dataset=torch_dataset,\n",
    "    batch_size=BATCH_SIZE,\n",
    "    shuffle=True,\n",
    "    num_workers=2,\n",
    ")"
   ]
  },
  {
   "cell_type": "code",
   "execution_count": 6,
   "metadata": {},
   "outputs": [
    {
     "name": "stdout",
     "output_type": "stream",
     "text": [
      "epoch:  0 | step 0 | batch_x tensor([1., 2.]) | batch_y tensor([10.,  9.])\n",
      "epoch:  0 | step 1 | batch_x tensor([6., 7.]) | batch_y tensor([5., 4.])\n",
      "epoch:  0 | step 2 | batch_x tensor([ 8., 10.]) | batch_y tensor([3., 1.])\n",
      "epoch:  0 | step 3 | batch_x tensor([5., 3.]) | batch_y tensor([6., 8.])\n",
      "epoch:  0 | step 4 | batch_x tensor([4., 9.]) | batch_y tensor([7., 2.])\n",
      "epoch:  1 | step 0 | batch_x tensor([1., 5.]) | batch_y tensor([10.,  6.])\n",
      "epoch:  1 | step 1 | batch_x tensor([10.,  4.]) | batch_y tensor([1., 7.])\n",
      "epoch:  1 | step 2 | batch_x tensor([7., 2.]) | batch_y tensor([4., 9.])\n",
      "epoch:  1 | step 3 | batch_x tensor([9., 8.]) | batch_y tensor([2., 3.])\n",
      "epoch:  1 | step 4 | batch_x tensor([3., 6.]) | batch_y tensor([8., 5.])\n",
      "epoch:  2 | step 0 | batch_x tensor([1., 8.]) | batch_y tensor([10.,  3.])\n",
      "epoch:  2 | step 1 | batch_x tensor([7., 4.]) | batch_y tensor([4., 7.])\n",
      "epoch:  2 | step 2 | batch_x tensor([3., 6.]) | batch_y tensor([8., 5.])\n",
      "epoch:  2 | step 3 | batch_x tensor([ 2., 10.]) | batch_y tensor([9., 1.])\n",
      "epoch:  2 | step 4 | batch_x tensor([9., 5.]) | batch_y tensor([2., 6.])\n"
     ]
    }
   ],
   "source": [
    "for epoch in range(3):\n",
    "    for step, (batch_x, batch_y) in enumerate(loader):\n",
    "        print(\"epoch: \", epoch, \"| step\", step, \"| batch_x\", batch_x, \"| batch_y\", batch_y)"
   ]
  },
  {
   "cell_type": "code",
   "execution_count": null,
   "metadata": {},
   "outputs": [],
   "source": []
  }
 ],
 "metadata": {
  "kernelspec": {
   "display_name": "Python 3",
   "language": "python",
   "name": "python3"
  },
  "language_info": {
   "codemirror_mode": {
    "name": "ipython",
    "version": 3
   },
   "file_extension": ".py",
   "mimetype": "text/x-python",
   "name": "python",
   "nbconvert_exporter": "python",
   "pygments_lexer": "ipython3",
   "version": "3.7.2"
  }
 },
 "nbformat": 4,
 "nbformat_minor": 2
}
