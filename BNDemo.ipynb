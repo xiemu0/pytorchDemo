{
 "cells": [
  {
   "cell_type": "code",
   "execution_count": 1,
   "metadata": {},
   "outputs": [],
   "source": [
    "import torch\n",
    "import torch.nn as nn\n",
    "import torch.utils.data as Data\n",
    "import torchvision\n",
    "import matplotlib.pyplot as plt"
   ]
  },
  {
   "cell_type": "code",
   "execution_count": 2,
   "metadata": {},
   "outputs": [],
   "source": [
    "# hyper parameters\n",
    "EPOCH = 1\n",
    "BATCH_SIZE = 50\n",
    "LR = 0.01\n",
    "DOWNLOAD_MNIST = False"
   ]
  },
  {
   "cell_type": "code",
   "execution_count": 3,
   "metadata": {},
   "outputs": [],
   "source": [
    "train_data = torchvision.datasets.MNIST(\n",
    "    root=\"./mnist\", \n",
    "    train=True, \n",
    "    transform=torchvision.transforms.ToTensor(), # [0, 1]\n",
    "    download=DOWNLOAD_MNIST\n",
    ")"
   ]
  },
  {
   "cell_type": "code",
   "execution_count": 4,
   "metadata": {},
   "outputs": [
    {
     "data": {
      "image/png": "[encoded data removed]",
      "text/plain": [
       "<Figure size 432x288 with 1 Axes>"
      ]
     },
     "metadata": {
      "needs_background": "light"
     },
     "output_type": "display_data"
    }
   ],
   "source": [
    "# plot one example\n",
    "plt.imshow(train_data.data[0].numpy())\n",
    "plt.title(train_data.targets[0].numpy())\n",
    "plt.show()"
   ]
  },
  {
   "cell_type": "code",
   "execution_count": 5,
   "metadata": {},
   "outputs": [],
   "source": [
    "train_loader = Data.DataLoader(dataset=train_data, batch_size=BATCH_SIZE, shuffle=True, num_workers=2)"
   ]
  },
  {
   "cell_type": "code",
   "execution_count": 6,
   "metadata": {},
   "outputs": [],
   "source": [
    "test_data = torchvision.datasets.MNIST(root=\"./mnist\", train=False)\n",
    "test_x = torch.unsqueeze(test_data.data.type(torch.FloatTensor)[: 2000] / 255., dim=1)\n",
    "test_y = test_data.targets[: 2000]"
   ]
  },
  {
   "cell_type": "code",
   "execution_count": 7,
   "metadata": {},
   "outputs": [],
   "source": [
    "class CNN(nn.Module):\n",
    "    def __init__(self):\n",
    "        super().__init__()\n",
    "        self.conv1 = nn.Sequential(\n",
    "            nn.Conv2d(in_channels=1, out_channels=16, kernel_size=5, stride=1, padding=2), # padding = (kernel_size-1) / 2\n",
    "            nn.ReLU(),\n",
    "            nn.BatchNorm2d(16, momentum=0.1),\n",
    "            nn.MaxPool2d(kernel_size=2),\n",
    "        )\n",
    "        self.conv2 = nn.Sequential(\n",
    "            nn.Conv2d(16, 32, 5, 1, 2),\n",
    "            nn.ReLU(),\n",
    "            nn.BatchNorm2d(32, momentum=0.1),\n",
    "            nn.MaxPool2d(2),\n",
    "        )\n",
    "        self.out = nn.Sequential(\n",
    "            nn.Linear(32 * 7 * 7, 10),\n",
    "            nn.Softmax(dim=1)\n",
    "        )\n",
    "    \n",
    "    def forward(self, x):\n",
    "        x = self.conv1(x)\n",
    "        x = self.conv2(x) # (batch, 32, 7, 7)\n",
    "        x = x.view(x.size(0), -1) # (batch, 32 * 7 * 7)\n",
    "        output = self.out(x)\n",
    "        return output"
   ]
  },
  {
   "cell_type": "code",
   "execution_count": 8,
   "metadata": {},
   "outputs": [
    {
     "name": "stdout",
     "output_type": "stream",
     "text": [
      "CNN(\n",
      "  (conv1): Sequential(\n",
      "    (0): Conv2d(1, 16, kernel_size=(5, 5), stride=(1, 1), padding=(2, 2))\n",
      "    (1): ReLU()\n",
      "    (2): BatchNorm2d(16, eps=1e-05, momentum=0.1, affine=True, track_running_stats=True)\n",
      "    (3): MaxPool2d(kernel_size=2, stride=2, padding=0, dilation=1, ceil_mode=False)\n",
      "  )\n",
      "  (conv2): Sequential(\n",
      "    (0): Conv2d(16, 32, kernel_size=(5, 5), stride=(1, 1), padding=(2, 2))\n",
      "    (1): ReLU()\n",
      "    (2): BatchNorm2d(32, eps=1e-05, momentum=0.1, affine=True, track_running_stats=True)\n",
      "    (3): MaxPool2d(kernel_size=2, stride=2, padding=0, dilation=1, ceil_mode=False)\n",
      "  )\n",
      "  (out): Sequential(\n",
      "    (0): Linear(in_features=1568, out_features=10, bias=True)\n",
      "    (1): Softmax()\n",
      "  )\n",
      ")\n"
     ]
    }
   ],
   "source": [
    "cnn = CNN()\n",
    "print(cnn)"
   ]
  },
  {
   "cell_type": "code",
   "execution_count": 10,
   "metadata": {},
   "outputs": [
    {
     "name": "stdout",
     "output_type": "stream",
     "text": [
      "Epoch:  0 | train loss: 1.6421200037002563 | test_accuracy: 0.7745\n",
      "Epoch:  0 | train loss: 1.6011419296264648 | test_accuracy: 0.7655\n",
      "Epoch:  0 | train loss: 1.7191828489303589 | test_accuracy: 0.7585\n",
      "Epoch:  0 | train loss: 1.6795125007629395 | test_accuracy: 0.7695\n",
      "Epoch:  0 | train loss: 1.6255284547805786 | test_accuracy: 0.8465\n",
      "Epoch:  0 | train loss: 1.5390944480895996 | test_accuracy: 0.847\n",
      "Epoch:  0 | train loss: 1.510298490524292 | test_accuracy: 0.8695\n",
      "Epoch:  0 | train loss: 1.6014024019241333 | test_accuracy: 0.866\n",
      "Epoch:  0 | train loss: 1.6211459636688232 | test_accuracy: 0.8525\n",
      "Epoch:  0 | train loss: 1.621128797531128 | test_accuracy: 0.8535\n",
      "Epoch:  0 | train loss: 1.521150827407837 | test_accuracy: 0.854\n",
      "Epoch:  0 | train loss: 1.5487576723098755 | test_accuracy: 0.872\n"
     ]
    }
   ],
   "source": [
    "optimizer = torch.optim.Adam(cnn.parameters(), lr=LR)\n",
    "loss_func = nn.CrossEntropyLoss()\n",
    "for epoch in range(EPOCH):\n",
    "    for step, (x, y) in enumerate(train_loader):\n",
    "        output = cnn(x)\n",
    "        loss = loss_func(output, y)\n",
    "        optimizer.zero_grad()\n",
    "        loss.backward()\n",
    "        optimizer.step()\n",
    "        \n",
    "        if step % 100 == 0:\n",
    "            test_output = cnn(test_x)\n",
    "            pred_y = torch.max(test_output, 1)[1].data.numpy()\n",
    "            accuracy = sum(pred_y == test_y.data.numpy()) / test_y.size(0)\n",
    "            print(\"Epoch: \", epoch, \"| train loss: {0}\".format(loss.data.numpy()), \"| test_accuracy: {0}\".format(accuracy))"
   ]
  },
  {
   "cell_type": "code",
   "execution_count": null,
   "metadata": {},
   "outputs": [],
   "source": []
  }
 ],
 "metadata": {
  "kernelspec": {
   "display_name": "Python 3",
   "language": "python",
   "name": "python3"
  },
  "language_info": {
   "codemirror_mode": {
    "name": "ipython",
    "version": 3
   },
   "file_extension": ".py",
   "mimetype": "text/x-python",
   "name": "python",
   "nbconvert_exporter": "python",
   "pygments_lexer": "ipython3",
   "version": "3.7.2"
  }
 },
 "nbformat": 4,
 "nbformat_minor": 2
}
