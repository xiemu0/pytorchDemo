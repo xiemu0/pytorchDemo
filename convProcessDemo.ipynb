{
 "cells": [
  {
   "cell_type": "code",
   "execution_count": 1,
   "metadata": {},
   "outputs": [],
   "source": [
    "import torch"
   ]
  },
  {
   "cell_type": "code",
   "execution_count": 2,
   "metadata": {},
   "outputs": [
    {
     "name": "stdout",
     "output_type": "stream",
     "text": [
      "tensor([[[[1., 1., 1., 1., 1.],\n",
      "          [1., 1., 1., 1., 1.],\n",
      "          [1., 1., 1., 1., 1.],\n",
      "          [1., 1., 1., 1., 1.],\n",
      "          [1., 1., 1., 1., 1.]]]])\n"
     ]
    }
   ],
   "source": [
    "input = torch.ones(1, 1, 5, 5)\n",
    "print(input)"
   ]
  },
  {
   "cell_type": "code",
   "execution_count": 9,
   "metadata": {},
   "outputs": [
    {
     "name": "stdout",
     "output_type": "stream",
     "text": [
      "[Parameter containing:\n",
      "tensor([[[[ 0.2609, -0.0988, -0.2838],\n",
      "          [-0.2735,  0.3293,  0.1592],\n",
      "          [-0.2607,  0.2460, -0.3254]]],\n",
      "\n",
      "\n",
      "        [[[-0.1072,  0.1700,  0.2453],\n",
      "          [-0.1815, -0.1612,  0.1041],\n",
      "          [ 0.2713,  0.1281, -0.0292]]],\n",
      "\n",
      "\n",
      "        [[[-0.1953, -0.0965,  0.0642],\n",
      "          [-0.2086, -0.0451,  0.1522],\n",
      "          [ 0.1305,  0.1031,  0.2010]]]], requires_grad=True), Parameter containing:\n",
      "tensor([0.3232, 0.1169, 0.1350], requires_grad=True)]\n"
     ]
    }
   ],
   "source": [
    "x = torch.nn.Conv2d(1, 3, 3, 1)\n",
    "print(list(x.parameters()))"
   ]
  },
  {
   "cell_type": "code",
   "execution_count": 12,
   "metadata": {},
   "outputs": [
    {
     "name": "stdout",
     "output_type": "stream",
     "text": [
      "tensor([[[[0.0763, 0.0763, 0.0763],\n",
      "          [0.0763, 0.0763, 0.0763],\n",
      "          [0.0763, 0.0763, 0.0763]],\n",
      "\n",
      "         [[0.5566, 0.5566, 0.5566],\n",
      "          [0.5566, 0.5566, 0.5566],\n",
      "          [0.5566, 0.5566, 0.5566]],\n",
      "\n",
      "         [[0.2404, 0.2404, 0.2404],\n",
      "          [0.2404, 0.2404, 0.2404],\n",
      "          [0.2404, 0.2404, 0.2404]]]], grad_fn=<ThnnConv2DBackward>)\n"
     ]
    }
   ],
   "source": [
    "out = x(input)\n",
    "print(out)"
   ]
  },
  {
   "cell_type": "code",
   "execution_count": null,
   "metadata": {},
   "outputs": [],
   "source": []
  }
 ],
 "metadata": {
  "kernelspec": {
   "display_name": "Python 3",
   "language": "python",
   "name": "python3"
  },
  "language_info": {
   "codemirror_mode": {
    "name": "ipython",
    "version": 3
   },
   "file_extension": ".py",
   "mimetype": "text/x-python",
   "name": "python",
   "nbconvert_exporter": "python",
   "pygments_lexer": "ipython3",
   "version": "3.7.2"
  }
 },
 "nbformat": 4,
 "nbformat_minor": 2
}
